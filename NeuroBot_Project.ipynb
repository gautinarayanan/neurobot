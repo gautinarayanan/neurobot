{
  "cells": [
    {
      "cell_type": "markdown",
      "metadata": {
        "id": "Ix4SRLWUN53h"
      },
      "source": [
        "#Brain-Bot\n",
        "## Creators: Christal, Gautham, Ruben\n",
        "### The purpose of this bot is to create a study tool for the anatomy of the brain."
      ]
    },
    {
      "cell_type": "markdown",
      "metadata": {
        "id": "7JwwD7lKLvmI"
      },
      "source": [
        "#This is going to be the import lib./loading data\n"
      ]
    },
    {
      "cell_type": "code",
      "execution_count": null,
      "metadata": {
        "colab": {
          "base_uri": "https://localhost:8080/"
        },
        "id": "bwz4I-KrLobx",
        "outputId": "32e25a16-9ac4-4b0e-d22d-89dc4b1b9329"
      },
      "outputs": [
        {
          "name": "stdout",
          "output_type": "stream",
          "text": [
            "Mounted at /content/drive\n",
            "Drive already mounted at /content/drive; to attempt to forcibly remount, call drive.mount(\"/content/drive\", force_remount=True).\n"
          ]
        }
      ],
      "source": [
        "#First Import pandas, etc. and Excel BrainBot sheet\n",
        "import pandas as pd\n",
        "import time\n",
        "import matplotlib\n",
        "%matplotlib inline\n",
        "import random\n",
        "import seaborn as sns\n",
        "from wordcloud import WordCloud\n",
        "from matplotlib import pyplot as plt\n",
        "pd.set_option('display.max_colwidth', None)\n",
        "from google.colab import drive\n",
        "drive.mount('/content/drive')  \n",
        "from google.colab import drive   \n",
        "from IPython.display import Image  \n",
        "import time\n",
        "drive.mount('/content/drive')  \n",
        "drive_path = '/content/drive/My Drive/Colab Notebooks/neurocloud.txt'\n",
        "neuro_path = \"https://github.com/gautinarayanan/neurobot/raw/main/Brainbotttt.xlsx\"\n",
        "facts_path = \"https://github.com/SuperGremmy/Fact/raw/main/Funneofacts.xlsx\"\n",
        "quotes_path = \"https://github.com/gautinarayanan/neurobot/raw/main/Quotes.xlsx\"\n",
        "quotes = pd.read_excel(quotes_path)\n",
        "qd = pd.DataFrame(quotes, columns = ['Quotes', 'Author'])\n",
        "funfacts = pd.read_excel(facts_path)\n",
        "neuro = pd.read_excel(neuro_path)\n",
        "df = pd.DataFrame(neuro, columns = ['Structure', 'Location', 'Function'])"
      ]
    },
    {
      "cell_type": "markdown",
      "metadata": {
        "id": "Kapt5shbL3YE"
      },
      "source": [
        "#This is chatbot"
      ]
    },
    {
      "cell_type": "code",
      "execution_count": null,
      "metadata": {
        "colab": {
          "background_save": true,
          "base_uri": "https://localhost:8080/",
          "height": 707
        },
        "id": "vgiBjAh5cZjX",
        "outputId": "deb01a96-158d-4f21-f298-f52ae05e68f7"
      },
      "outputs": [
        {
          "name": "stdout",
          "output_type": "stream",
          "text": [
            "Good day living thing! I am Brain Bot, your humble Neuroscience Study tool! Before I show the menu, Let me get to know you! \n",
            "Let me get this straight \n",
            "Your name is ddd! \n",
            "You go tod\n",
            "You are majoring in, d\n",
            "Your favorite structure is  for some reason.\n",
            "you found me through d\n",
            "and you are looking for d\n",
            " HEHE good, I just wasted your time!!!!\n",
            "Now then ddd! Here are my menu options.\n",
            "Sorry, that is not a valid response\n"
          ]
        },
        {
          "data": {
            "text/html": [
              "\n",
              "  <div id=\"df-01bb2432-a1ea-4b42-b71f-3651ce730f7a\">\n",
              "    <div class=\"colab-df-container\">\n",
              "      <div>\n",
              "<style scoped>\n",
              "    .dataframe tbody tr th:only-of-type {\n",
              "        vertical-align: middle;\n",
              "    }\n",
              "\n",
              "    .dataframe tbody tr th {\n",
              "        vertical-align: top;\n",
              "    }\n",
              "\n",
              "    .dataframe thead th {\n",
              "        text-align: right;\n",
              "    }\n",
              "</style>\n",
              "<table border=\"1\" class=\"dataframe\">\n",
              "  <thead>\n",
              "    <tr style=\"text-align: right;\">\n",
              "      <th></th>\n",
              "      <th>Fun Facts</th>\n",
              "    </tr>\n",
              "  </thead>\n",
              "  <tbody>\n",
              "    <tr>\n",
              "      <th>17</th>\n",
              "      <td>The spinal cord is the main source of communication between the body and the brain</td>\n",
              "    </tr>\n",
              "  </tbody>\n",
              "</table>\n",
              "</div>\n",
              "      <button class=\"colab-df-convert\" onclick=\"convertToInteractive('df-01bb2432-a1ea-4b42-b71f-3651ce730f7a')\"\n",
              "              title=\"Convert this dataframe to an interactive table.\"\n",
              "              style=\"display:none;\">\n",
              "        \n",
              "  <svg xmlns=\"http://www.w3.org/2000/svg\" height=\"24px\"viewBox=\"0 0 24 24\"\n",
              "       width=\"24px\">\n",
              "    <path d=\"M0 0h24v24H0V0z\" fill=\"none\"/>\n",
              "    <path d=\"M18.56 5.44l.94 2.06.94-2.06 2.06-.94-2.06-.94-.94-2.06-.94 2.06-2.06.94zm-11 1L8.5 8.5l.94-2.06 2.06-.94-2.06-.94L8.5 2.5l-.94 2.06-2.06.94zm10 10l.94 2.06.94-2.06 2.06-.94-2.06-.94-.94-2.06-.94 2.06-2.06.94z\"/><path d=\"M17.41 7.96l-1.37-1.37c-.4-.4-.92-.59-1.43-.59-.52 0-1.04.2-1.43.59L10.3 9.45l-7.72 7.72c-.78.78-.78 2.05 0 2.83L4 21.41c.39.39.9.59 1.41.59.51 0 1.02-.2 1.41-.59l7.78-7.78 2.81-2.81c.8-.78.8-2.07 0-2.86zM5.41 20L4 18.59l7.72-7.72 1.47 1.35L5.41 20z\"/>\n",
              "  </svg>\n",
              "      </button>\n",
              "      \n",
              "  <style>\n",
              "    .colab-df-container {\n",
              "      display:flex;\n",
              "      flex-wrap:wrap;\n",
              "      gap: 12px;\n",
              "    }\n",
              "\n",
              "    .colab-df-convert {\n",
              "      background-color: #E8F0FE;\n",
              "      border: none;\n",
              "      border-radius: 50%;\n",
              "      cursor: pointer;\n",
              "      display: none;\n",
              "      fill: #1967D2;\n",
              "      height: 32px;\n",
              "      padding: 0 0 0 0;\n",
              "      width: 32px;\n",
              "    }\n",
              "\n",
              "    .colab-df-convert:hover {\n",
              "      background-color: #E2EBFA;\n",
              "      box-shadow: 0px 1px 2px rgba(60, 64, 67, 0.3), 0px 1px 3px 1px rgba(60, 64, 67, 0.15);\n",
              "      fill: #174EA6;\n",
              "    }\n",
              "\n",
              "    [theme=dark] .colab-df-convert {\n",
              "      background-color: #3B4455;\n",
              "      fill: #D2E3FC;\n",
              "    }\n",
              "\n",
              "    [theme=dark] .colab-df-convert:hover {\n",
              "      background-color: #434B5C;\n",
              "      box-shadow: 0px 1px 3px 1px rgba(0, 0, 0, 0.15);\n",
              "      filter: drop-shadow(0px 1px 2px rgba(0, 0, 0, 0.3));\n",
              "      fill: #FFFFFF;\n",
              "    }\n",
              "  </style>\n",
              "\n",
              "      <script>\n",
              "        const buttonEl =\n",
              "          document.querySelector('#df-01bb2432-a1ea-4b42-b71f-3651ce730f7a button.colab-df-convert');\n",
              "        buttonEl.style.display =\n",
              "          google.colab.kernel.accessAllowed ? 'block' : 'none';\n",
              "\n",
              "        async function convertToInteractive(key) {\n",
              "          const element = document.querySelector('#df-01bb2432-a1ea-4b42-b71f-3651ce730f7a');\n",
              "          const dataTable =\n",
              "            await google.colab.kernel.invokeFunction('convertToInteractive',\n",
              "                                                     [key], {});\n",
              "          if (!dataTable) return;\n",
              "\n",
              "          const docLinkHtml = 'Like what you see? Visit the ' +\n",
              "            '<a target=\"_blank\" href=https://colab.research.google.com/notebooks/data_table.ipynb>data table notebook</a>'\n",
              "            + ' to learn more about interactive tables.';\n",
              "          element.innerHTML = '';\n",
              "          dataTable['output_type'] = 'display_data';\n",
              "          await google.colab.output.renderOutput(dataTable, element);\n",
              "          const docLink = document.createElement('div');\n",
              "          docLink.innerHTML = docLinkHtml;\n",
              "          element.appendChild(docLink);\n",
              "        }\n",
              "      </script>\n",
              "    </div>\n",
              "  </div>\n",
              "  "
            ],
            "text/plain": [
              "                                                                             Fun Facts\n",
              "17  The spinal cord is the main source of communication between the body and the brain"
            ]
          },
          "metadata": {},
          "output_type": "display_data"
        }
      ],
      "source": [
        "#Introduce myself and ask for users to provide them with the menu options\n",
        "#Introduce myself and ask for users to provide them with the menu options\n",
        "neo_c = open(drive_path)\n",
        "neurocloud = neo_c.read()\n",
        "print(\"\"\"Good day living thing! I am Brain Bot, your humble\\\n",
        " Neuroscience Study tool! Before I show the menu, Let me get to know you! \"\"\")\n",
        "name = input('Whats your name? ')\n",
        "school = input('What school do you attend? ')\n",
        "major = input('What major are you in ' + name + ' ? ')\n",
        "fav_struc = input('whats your favorite structure of the brain ' + name + '? ')\n",
        "fin = input('How did you find out about this excellent bot ? ')\n",
        "purp = input('What are you looking for today? ')\n",
        "print('Let me get this straight ')\n",
        "print('Your name is ' + name + '! ')\n",
        "print('You go to' + school)\n",
        "print('You are majoring in, ' + major)\n",
        "print('Your favorite structure is ' + fav_struc + ' for some reason.')\n",
        "print('you found me through ' + fin)\n",
        "print('and you are looking for ' + purp)\n",
        "input(' Is all that correct? ')\n",
        "print(' HEHE good, I just wasted your time!!!!')\n",
        "intro_menumess = print('Now then ' + name + '! Here are my menu options.')\n",
        "while True:\n",
        "  menu_options = input(\"\"\"Would you like to pick? \n",
        "  a.) A structures Location and Function\n",
        "  b.) A Random Structure and it\\'s Location and Fucntion\n",
        "  c.) A Random Neuroscience Fact \n",
        "  d.) A word cloud of all the structures\n",
        "  e.) Quit \"\"\")\n",
        "  choice = menu_options.lower()\n",
        "  #while loop starts here (checks if choice is in list (a.b.c)\n",
        "  while choice not in ['a','b','c','d','e']:\n",
        "      print('Sorry, that is not a valid response')\n",
        "      menu_options = input(\"\"\"Would you like to pick? \n",
        "      a.) A structures Location and Function\n",
        "      b.) A Random Structure and it\\'s Location and Fucntion\n",
        "      c.) A Random Neuroscience Fact \n",
        "      d.) A word cloud of the structures\n",
        "      e.) Quit \"\"\")\n",
        "      choice = menu_options.lower()\n",
        "  if choice == 'a':\n",
        "      display(neuro['Structure'])\n",
        "      select = input('Choose a structure! ')\n",
        "      while select not in neuro['Structure'].values:\n",
        "          print('Sorry my creator did not add that')\n",
        "          select = input('Choose a structure! ')\n",
        "      sub_select = input(\"\"\"Sure thing, But first would you like to see\n",
        "      a.) the structures location\n",
        "      b.) the structures Function\n",
        "      c.) Both of the options above\"\"\")\n",
        "      subb_select = sub_select.lower()\n",
        "      input(f'Before I give you the answer, take a guess hehe!')\n",
        "      print('Nice, Lets hope you\\'re right! ')\n",
        "      while subb_select not in ['a','b','c']:\n",
        "          print('Sorry that was not an option, make a suitable input!')\n",
        "          sub_select = input(\"\"\"Sure thing, But first would you like to see\n",
        "          a.) the structures location\n",
        "          b.) the structures Function\n",
        "          c.) Both of the options above \"\"\")\n",
        "          subb_select = sub_select.lower()\n",
        "      if subb_select == 'a':\n",
        "          display(neuro.loc[neuro.Structure == select, ['Structure', 'Location']])\n",
        "      elif subb_select == 'b':\n",
        "          display(neuro.loc[neuro.Structure == select, ['Structure', 'Function']])\n",
        "      elif subb_select == 'c':\n",
        "          display(neuro.loc[neuro.Structure == select, ['Structure', 'Location', 'Function']])\n",
        "  # Option b gives a random structure and it's associated location and function as per user's preference\n",
        "  elif choice == 'b':\n",
        "      select = random.randint(0,20)\n",
        "      sub_select = input(\"\"\"Sure thing, But first would you like to see\n",
        "      a.) the structures location\n",
        "      b.) the structures Function\n",
        "      c.) Both of the options above\"\"\")\n",
        "      subb_select = sub_select.lower()\n",
        "      while subb_select not in ['a','b','c']:\n",
        "          print('Sorry that was not an option, make a suitable input!')\n",
        "          sub_select = input(\"\"\"Sure thing, But first would you like to see\n",
        "          a.) the structures location\n",
        "          b.) the structures Function\n",
        "          c.) Both of the options above \"\"\")\n",
        "          subb_select = sub_select.lower()\n",
        "      if subb_select == 'a':\n",
        "          print('Structure: ' + df.Structure[select],'Location: ' + df.Location[select])\n",
        "      elif subb_select == 'b':\n",
        "          print('Structure: '+ df.Structure[select],'Function:' + df.Function[select])\n",
        "      elif subb_select == 'c':\n",
        "          print('Structure: ' + df.Structure[select],'Location: ' + df.Location[select],'Function: ' + df.Function[select])\n",
        "  elif choice == 'c':\n",
        "    display(funfacts.sample(n=1))\n",
        "  elif choice == 'd':\n",
        "      wordcloud = WordCloud(background_color = 'white',\n",
        "                            width = 400, height = 200).generate(neurocloud)\n",
        "      plt.figure(figsize = (20,10))\n",
        "      dd\n",
        "      dd\n",
        "      plt.imshow(wordcloud, interpolation = 'bilinear')\n",
        "      plt.axis('off')\n",
        "      plt.show()\n",
        "      time.sleep(1)\n"
      ]
    },
    {
      "cell_type": "code",
      "execution_count": null,
      "metadata": {
        "colab": {
          "base_uri": "https://localhost:8080/",
          "height": 346
        },
        "id": "NF20HZ65AjFP",
        "outputId": "b427d9a0-2b53-4400-827e-46f4b3497815"
      },
      "outputs": [
        {
          "name": "stdout",
          "output_type": "stream",
          "text": [
            "You know the best way to learn? VISUAL learning, so do you want to see a photo?yes\n"
          ]
        },
        {
          "data": {
            "image/jpeg": "[encoded data removed]",
            "text/plain": [
              "<IPython.core.display.Image object>"
            ]
          },
          "metadata": {},
          "output_type": "display_data"
        },
        {
          "name": "stdout",
          "output_type": "stream",
          "text": [
            "Do you want to start again? yes\n",
            "You know the best way to learn? VISUAL learning, so do you want to see a photo?no\n",
            "Your loss\n",
            "Do you want to start again? no\n"
          ]
        }
      ],
      "source": [
        "again = True  \n",
        "while again ==True:  \n",
        "    resp = input('You know the best way to learn? VISUAL learning, so do you want to see a photo?')  \n",
        "    if resp ==  'yes':  \n",
        "        display(Image(filename = 'drive/My Drive/Colab Notebooks/anatomy.jpeg'))  \n",
        "        time.sleep(1)  \n",
        "    else: \n",
        "        print('Your loss') \n",
        "    restart = input('Do you want to start again? ')  \n",
        "    if restart == 'no':  \n",
        "        again = False "
      ]
    },
    {
      "cell_type": "code",
      "execution_count": null,
      "metadata": {
        "id": "NHWYyQLO8h4W"
      },
      "outputs": [],
      "source": [
        "# Create an empty queue\n",
        "queue = deque()\n",
        "\n",
        "# Enqueue some quiz questions\n",
        "queue.append('How many guests attended Oktoberfest in 1997? (format response: 0.0)')\n",
        "queue.append('What year did guests consume 60054 Hectoliteres of beer? ')\n",
        "queue.append('What year did oktoberfest have the highest count of daily guests (format: 000) ?')\n",
        "queue.append('What country hosts Oktoberfest?')\n",
        "queue.append('What is the most popular dish entree at Oktoberfest?')\n",
        "queue.append('What was the average cost for a plate of chicken in 1990 (euros fromat: 0.00) ?')\n",
        "queue.append('Is Oktoberfest still a tradition as of the time you are taking this?')\n",
        "queue.append('How much roasted chicken did guest consume in 2000 (format: 000000)?')\n",
        "queue.append('According to this data set what year was the price of beer the highest?')\n",
        "queue.append('What was the price of one beer in the year 2019 (Format: 0.00)?')\n",
        "\n",
        "# Dequeue the questions and collect the user's answers\n",
        "answers = []\n",
        "while queue:\n",
        "  question = queue.popleft()\n",
        "  answer = input(question + ' ')\n",
        "  answers.append(answer)\n",
        "\n",
        "# Calculate the score\n",
        "score = 0\n",
        "if answers[0].lower() == '6.4':\n",
        "    score += 1\n",
        "if answers[1].lower() == '1999':\n",
        "    score += 1\n",
        "if answers[2].lower() == '1985':\n",
        "    score += 1\n",
        "if answers[3].lower() == 'Germany':\n",
        "    score += 1\n",
        "if answers[4].lower() == 'Chicken':\n",
        "    score += 1\n",
        "if answers[5].lower() == '4.47':\n",
        "    score += 1\n",
        "if answers[6].lower() == 'Yes':\n",
        "    score += 1\n",
        "if answers[7].lower() == '681242':\n",
        "    score += 1\n",
        "if answers[8].lower() == '2019':\n",
        "    score += 1\n",
        "if answers[9].lower() == '11.71':\n",
        "    score += 1\n",
        "\n",
        "# Print the score and prompt the user to return to the main menu or quit\n",
        "print('Your score is', score, 'out of 10'"
      ]
    }
  ],
  "metadata": {
    "colab": {
      "provenance": []
    },
    "kernelspec": {
      "display_name": "Python 3",
      "name": "python3"
    },
    "language_info": {
      "name": "python"
    }
  },
  "nbformat": 4,
  "nbformat_minor": 0
}